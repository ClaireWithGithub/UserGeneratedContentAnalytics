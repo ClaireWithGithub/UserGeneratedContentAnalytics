{
 "cells": [
  {
   "cell_type": "code",
   "execution_count": 1,
   "metadata": {},
   "outputs": [
    {
     "name": "stdout",
     "output_type": "stream",
     "text": [
      "[nltk_data] Downloading package punkt to\n",
      "[nltk_data]     /Users/barrettpoth/nltk_data...\n",
      "[nltk_data]   Package punkt is already up-to-date!\n"
     ]
    }
   ],
   "source": [
    "import pandas as pd\n",
    "import numpy as np\n",
    "\n",
    "import nltk\n",
    "from nltk.tokenize import sent_tokenize, word_tokenize \n",
    "nltk.download('punkt')\n",
    "\n",
    "import gensim\n",
    "from gensim.models import Word2Vec\n",
    "\n",
    "import warnings \n",
    "warnings.filterwarnings(action = 'ignore')\n",
    "\n",
    "from vaderSentiment.vaderSentiment import SentimentIntensityAnalyzer\n",
    "\n",
    "import operator\n",
    "\n",
    "import matplotlib.pyplot as plt"
   ]
  },
  {
   "cell_type": "code",
   "execution_count": 8,
   "metadata": {},
   "outputs": [],
   "source": [
    "# return average of list\n",
    "def avg(lst): \n",
    "    return sum(lst) / len(lst) "
   ]
  },
  {
   "cell_type": "code",
   "execution_count": 2,
   "metadata": {},
   "outputs": [],
   "source": [
    "products = pd.read_csv('final_data/products.csv')\n",
    "reviews = pd.read_csv('final_data/reviews.csv')"
   ]
  },
  {
   "cell_type": "code",
   "execution_count": 3,
   "metadata": {},
   "outputs": [],
   "source": [
    "reviews = pd.read_csv(\"reviews.csv\")\n",
    "reviews = reviews.drop(columns=[\"Unnamed: 0\"])"
   ]
  },
  {
   "cell_type": "code",
   "execution_count": 4,
   "metadata": {},
   "outputs": [],
   "source": [
    "# data is a list of sentences, and sentences are lists of words\n",
    "data = []\n",
    "for index, row in reviews.iterrows():\n",
    "    r = row['Review']\n",
    "    for i in sent_tokenize(r):\n",
    "        sentence = []\n",
    "        for j in word_tokenize(i):\n",
    "            sentence.append(j.lower())\n",
    "        data.append(sentence)"
   ]
  },
  {
   "cell_type": "code",
   "execution_count": 5,
   "metadata": {},
   "outputs": [],
   "source": [
    "# create skip gram word embedding model from our review data\n",
    "sg_model = gensim.models.Word2Vec(data, min_count = 1, size = 100, \n",
    "                                             window = 5, sg = 1)"
   ]
  },
  {
   "cell_type": "code",
   "execution_count": 6,
   "metadata": {},
   "outputs": [],
   "source": [
    "# freatures are the features that the customers we are recommending to care about \n",
    "features = ['money']\n",
    "\n",
    "# calculate similarities for each review and the list of features\n",
    "similarities = []\n",
    "for index, row in reviews.iterrows():\n",
    "    r = row['Review']\n",
    "    r_sents = sent_tokenize(r)\n",
    "    r_sent_words = [word_tokenize(s) for s in r_sents]\n",
    "    r_words = []\n",
    "    for s in r_sent_words:\n",
    "        for w in s:\n",
    "            r_words.append(w)\n",
    "    r_words = [w.lower() for w in r_words]\n",
    "    try:\n",
    "        similarities.append(sg_model.n_similarity(features, r_words))\n",
    "    except:\n",
    "        similarities.append(0)"
   ]
  },
  {
   "cell_type": "code",
   "execution_count": 9,
   "metadata": {},
   "outputs": [
    {
     "data": {
      "text/plain": [
       "0.537091948887237"
      ]
     },
     "execution_count": 9,
     "metadata": {},
     "output_type": "execute_result"
    }
   ],
   "source": [
    "avg(similarities)"
   ]
  },
  {
   "cell_type": "code",
   "execution_count": 10,
   "metadata": {},
   "outputs": [],
   "source": [
    "# freatures are the features that the customers we are recommending to care about \n",
    "features = ['complexion', 'skin']\n",
    "\n",
    "# calculate similarities for each review and the list of features\n",
    "similarities = []\n",
    "for index, row in reviews.iterrows():\n",
    "    r = row['Review']\n",
    "    r_sents = sent_tokenize(r)\n",
    "    r_sent_words = [word_tokenize(s) for s in r_sents]\n",
    "    r_words = []\n",
    "    for s in r_sent_words:\n",
    "        for w in s:\n",
    "            r_words.append(w)\n",
    "    r_words = [w.lower() for w in r_words]\n",
    "    try:\n",
    "        similarities.append(sg_model.n_similarity(features, r_words))\n",
    "    except:\n",
    "        similarities.append(0)"
   ]
  },
  {
   "cell_type": "code",
   "execution_count": 20,
   "metadata": {},
   "outputs": [
    {
     "data": {
      "text/plain": [
       "0.6532024732628587"
      ]
     },
     "execution_count": 20,
     "metadata": {},
     "output_type": "execute_result"
    }
   ],
   "source": [
    "avg(similarities)"
   ]
  },
  {
   "cell_type": "code",
   "execution_count": 11,
   "metadata": {},
   "outputs": [],
   "source": [
    "reviews['similarities'] = similarities"
   ]
  },
  {
   "cell_type": "code",
   "execution_count": 12,
   "metadata": {},
   "outputs": [],
   "source": [
    "# get sentiment score for each review\n",
    "analyser = SentimentIntensityAnalyzer()\n",
    "review_sentiments = []\n",
    "for r in reviews.itertuples():\n",
    "    snt = analyser.polarity_scores(r.Review)\n",
    "    review_sentiments.append(snt)\n",
    "review_sentiments = [r['compound'] for r in review_sentiments]"
   ]
  },
  {
   "cell_type": "code",
   "execution_count": 13,
   "metadata": {},
   "outputs": [],
   "source": [
    "reviews['sentiments'] = review_sentiments"
   ]
  },
  {
   "cell_type": "code",
   "execution_count": 14,
   "metadata": {},
   "outputs": [],
   "source": [
    "# start getting avg sentiment and cosine similarity for each product\n",
    "# create dictionaries: key is product name, value is list of sentiments and cos similarities for that product\n",
    "makeup_cs_dict = {}\n",
    "makeup_sent_dict = {}\n",
    "for r in reviews.itertuples():\n",
    "    \n",
    "    if r.Product in makeup_sent_dict:\n",
    "        makeup_sent_dict[r.Product].append(r.sentiments)\n",
    "    else:\n",
    "        makeup_sent_dict[r.Product] = [r.sentiments]\n",
    "        \n",
    "    if r.Product in makeup_cs_dict:\n",
    "        makeup_cs_dict[r.Product].append(r.similarities)\n",
    "    else:\n",
    "        makeup_cs_dict[r.Product] = [r.similarities]        "
   ]
  },
  {
   "cell_type": "code",
   "execution_count": 15,
   "metadata": {},
   "outputs": [],
   "source": [
    "# create dictionaries: key is product name, value is avg sentiment and cos similarities for that rest\n",
    "makeup_cs_avg_dict = {}\n",
    "makeup_sent_avg_dict = {}\n",
    "for r in makeup_cs_dict:\n",
    "    makeup_cs_avg_dict[r] = avg(makeup_cs_dict[r])\n",
    "    makeup_sent_avg_dict[r] = avg(makeup_sent_dict[r])"
   ]
  },
  {
   "cell_type": "code",
   "execution_count": 16,
   "metadata": {},
   "outputs": [],
   "source": [
    "# get sorted lists of makeup_cs_avg_dict and makeup_sent_avg_dict\n",
    "makeup_cs_avg = sorted(makeup_cs_avg_dict.items(), key=operator.itemgetter(1))\n",
    "makeup_cs_avg.reverse()\n",
    "\n",
    "makeup_sent_avg = sorted(makeup_sent_avg_dict.items(), key=operator.itemgetter(1))\n",
    "makeup_sent_avg.reverse()"
   ]
  },
  {
   "cell_type": "code",
   "execution_count": 17,
   "metadata": {},
   "outputs": [],
   "source": [
    "# create dictionary: key is product name, value is sentiment score * cosine similarity for that product\n",
    "makeup_cs_sent_dict = {}\n",
    "for m in makeup_cs_dict:\n",
    "    cs = makeup_cs_avg_dict[m]\n",
    "    sent = makeup_sent_avg_dict[m]\n",
    "    makeup_cs_sent_dict[m] = cs * sent"
   ]
  },
  {
   "cell_type": "code",
   "execution_count": 18,
   "metadata": {},
   "outputs": [],
   "source": [
    "# get sorted list of makeup_cs_send_dict\n",
    "makeup_cs_sent = sorted(makeup_cs_sent_dict.items(), key=operator.itemgetter(1))\n",
    "makeup_cs_sent.reverse()"
   ]
  },
  {
   "cell_type": "markdown",
   "metadata": {},
   "source": [
    "#### Recommendations"
   ]
  },
  {
   "cell_type": "code",
   "execution_count": 21,
   "metadata": {},
   "outputs": [
    {
     "name": "stdout",
     "output_type": "stream",
     "text": [
      "1.  Name: Cream Foundation\n",
      "            Cos: 0.6732989900252399\n",
      "           Sent: 0.9082117647058825\n",
      " Perc buy again: 0.64\n",
      "\n",
      "2.  Name: Chubby in the Nude Foundation Stick\n",
      "            Cos: 0.6652324578978799\n",
      "           Sent: 0.9122090909090907\n",
      " Perc buy again: 0.63\n",
      "\n",
      "3.  Name: Multistick\n",
      "            Cos: 0.649163544178009\n",
      "           Sent: 0.9234384615384615\n",
      " Perc buy again: 0.65\n",
      "\n",
      "4.  Name: Super BB All-in-1 Beauty Balm Stick\n",
      "            Cos: 0.6623089781829289\n",
      "           Sent: 0.8806500000000002\n",
      " Perc buy again: 0.78\n",
      "\n",
      "5.  Name: W3LL People Narcissist \n",
      "            Cos: 0.6575929863112313\n",
      "           Sent: 0.8528642857142857\n",
      " Perc buy again: 0.71\n",
      "\n"
     ]
    }
   ],
   "source": [
    "# get top n recommendations based on sentiment score and cosine similarity multiple\n",
    "recommendations = [m[0] for m in makeup_cs_sent[:5]]\n",
    "for i in range (len(recommendations)):\n",
    "    output = str(i+1) + '.  Name: ' + recommendations[i]\n",
    "    output += '\\n            Cos: ' + str(makeup_cs_avg_dict[recommendations[i]])\n",
    "    output += '\\n           Sent: ' + str(makeup_sent_avg_dict[recommendations[i]])    \n",
    "    output += '\\n           Sent: ' + str(makeup_sent_avg_dict[recommendations[i]])\n",
    "\n",
    "    r_row = products.loc[products['Product'] == recommendations[i]]\n",
    "    percentage = r_row['Percentage Would Buy Again'].head(1)\n",
    "    output += '\\n Perc buy again: ' + str(float(percentage))\n",
    "    print (output, end='\\n\\n')"
   ]
  },
  {
   "cell_type": "code",
   "execution_count": 22,
   "metadata": {},
   "outputs": [],
   "source": [
    "# get top n recommendations based on sentiment score buckets and cosine similarity.\n",
    "bucket_recommendations = []\n",
    "for i in range (len(makeup_cs_avg)):\n",
    "    product = makeup_cs_avg[i][0]\n",
    "    if makeup_sent_avg_dict[product] >= .9:\n",
    "        bucket_recommendations.append(product)\n",
    "for i in range (len(makeup_cs_avg)):\n",
    "    product = makeup_cs_avg[i][0]\n",
    "    if makeup_sent_avg_dict[product] >= .8 and makeup_sent_avg_dict[product] < .9:\n",
    "        bucket_recommendations.append(product)\n",
    "for i in range (len(makeup_cs_avg)):\n",
    "    product = makeup_cs_avg[i][0]\n",
    "    if makeup_sent_avg_dict[product] >= .7 and makeup_sent_avg_dict[product] >= .8:\n",
    "        bucket_recommendations.append(product)"
   ]
  },
  {
   "cell_type": "code",
   "execution_count": 23,
   "metadata": {},
   "outputs": [
    {
     "name": "stdout",
     "output_type": "stream",
     "text": [
      "1.  Name: Cream Foundation\n",
      "            Cos: 0.6732989900252399\n",
      "           Sent: 0.9082117647058825\n",
      " Perc buy again: 0.64\n",
      "\n",
      "2.  Name: Chubby in the Nude Foundation Stick\n",
      "            Cos: 0.6652324578978799\n",
      "           Sent: 0.9122090909090907\n",
      " Perc buy again: 0.63\n",
      "\n",
      "3.  Name: Multistick\n",
      "            Cos: 0.649163544178009\n",
      "           Sent: 0.9234384615384615\n",
      " Perc buy again: 0.65\n",
      "\n",
      "4.  Name: Traceless Foundation Stick\n",
      "            Cos: 0.6629978189101586\n",
      "           Sent: 0.8289423076923075\n",
      " Perc buy again: 0.63\n",
      "\n",
      "5.  Name: Super BB All-in-1 Beauty Balm Stick\n",
      "            Cos: 0.6623089781829289\n",
      "           Sent: 0.8806500000000002\n",
      " Perc buy again: 0.78\n",
      "\n"
     ]
    }
   ],
   "source": [
    "# get top n recommendations based on sentiment score and cosine similarity multiple\n",
    "for i in range (len(bucket_recommendations[:5])):\n",
    "    output = str(i+1) + '.  Name: ' + bucket_recommendations[i]\n",
    "    output += '\\n            Cos: ' + str(makeup_cs_avg_dict[bucket_recommendations[i]])\n",
    "    output += '\\n           Sent: ' + str(makeup_sent_avg_dict[bucket_recommendations[i]])\n",
    "    \n",
    "    r_row = products.loc[products['Product'] == bucket_recommendations[i]]\n",
    "    percentage = r_row['Percentage Would Buy Again'].head(1)\n",
    "    output += '\\n Perc buy again: ' + str(float(percentage))\n",
    "    print (output, end='\\n\\n')"
   ]
  },
  {
   "cell_type": "code",
   "execution_count": 28,
   "metadata": {},
   "outputs": [],
   "source": [
    "# start plotting sentiments vs percentage would by again\n",
    "# create a dictionary, key is product name, value is (sentiment, pba)\n",
    "makeup_sent_avg.reverse() # reverse\n",
    "makeup_sent_avg_asc = makeup_sent_avg\n",
    "makeup_sent_avg.reverse() # set back to desc\n",
    "sent_vs_pba_dict = {}\n",
    "for p in makeup_sent_avg_asc:\n",
    "    r_row = products.loc[products['Product'] == p[0]]\n",
    "    percentage = r_row['Percentage Would Buy Again'].head(1)\n",
    "    sent_vs_pba_dict[p[0]] = (p[1], float(percentage))"
   ]
  },
  {
   "cell_type": "code",
   "execution_count": 29,
   "metadata": {},
   "outputs": [],
   "source": [
    "pba = []\n",
    "sent = []\n",
    "for k in sent_vs_pba_dict:\n",
    "    pba.append(sent_vs_pba_dict[k][0])\n",
    "    sent.append(sent_vs_pba_dict[k][1])"
   ]
  },
  {
   "cell_type": "code",
   "execution_count": 32,
   "metadata": {},
   "outputs": [
    {
     "data": {
      "text/plain": [
       "<matplotlib.collections.PathCollection at 0x1a44351668>"
      ]
     },
     "execution_count": 32,
     "metadata": {},
     "output_type": "execute_result"
    },
    {
     "data": {
      "image/png": "[encoded data removed]",
      "text/plain": [
       "<Figure size 432x288 with 1 Axes>"
      ]
     },
     "metadata": {
      "needs_background": "light"
     },
     "output_type": "display_data"
    }
   ],
   "source": [
    "plt.title('% Purchase Again vs Sentiment')\n",
    "plt.xlabel('% Purchase Again')\n",
    "plt.ylabel('Sentiment')\n",
    "plt.scatter(pba, sent)"
   ]
  },
  {
   "cell_type": "code",
   "execution_count": 36,
   "metadata": {},
   "outputs": [
    {
     "name": "stdout",
     "output_type": "stream",
     "text": [
      "Final Seal\n"
     ]
    }
   ],
   "source": [
    "for k in sent_vs_pba_dict:\n",
    "    pba = sent_vs_pba_dict[k][0]\n",
    "    sent = sent_vs_pba_dict[k][1]\n",
    "    if pba > .5 and pba < .6 and sent > .8:\n",
    "        print (k)"
   ]
  },
  {
   "cell_type": "markdown",
   "metadata": {},
   "source": [
    "Final Seal by Ben Nye is the outlier at (.58,.85)"
   ]
  },
  {
   "cell_type": "code",
   "execution_count": 43,
   "metadata": {},
   "outputs": [
    {
     "data": {
      "text/plain": [
       "0.6910252252252251"
      ]
     },
     "execution_count": 43,
     "metadata": {},
     "output_type": "execute_result"
    }
   ],
   "source": [
    "makeup_sent_avg_dict['Master Corrector']"
   ]
  },
  {
   "cell_type": "code",
   "execution_count": 44,
   "metadata": {},
   "outputs": [
    {
     "data": {
      "text/plain": [
       "0.6515298109870773"
      ]
     },
     "execution_count": 44,
     "metadata": {},
     "output_type": "execute_result"
    }
   ],
   "source": [
    " makeup_cs_avg_dict['Master Corrector']"
   ]
  },
  {
   "cell_type": "code",
   "execution_count": 47,
   "metadata": {},
   "outputs": [
    {
     "data": {
      "text/html": [
       "<div>\n",
       "<style scoped>\n",
       "    .dataframe tbody tr th:only-of-type {\n",
       "        vertical-align: middle;\n",
       "    }\n",
       "\n",
       "    .dataframe tbody tr th {\n",
       "        vertical-align: top;\n",
       "    }\n",
       "\n",
       "    .dataframe thead th {\n",
       "        text-align: right;\n",
       "    }\n",
       "</style>\n",
       "<table border=\"1\" class=\"dataframe\">\n",
       "  <thead>\n",
       "    <tr style=\"text-align: right;\">\n",
       "      <th></th>\n",
       "      <th>Unnamed: 0</th>\n",
       "      <th>Brand</th>\n",
       "      <th>Product</th>\n",
       "      <th>Type</th>\n",
       "      <th>Avg Rating</th>\n",
       "      <th>Number of Reviews</th>\n",
       "      <th>Percentage Would Buy Again</th>\n",
       "    </tr>\n",
       "  </thead>\n",
       "  <tbody>\n",
       "    <tr>\n",
       "      <th>169</th>\n",
       "      <td>169</td>\n",
       "      <td>MyChelle</td>\n",
       "      <td>Cream Foundation</td>\n",
       "      <td>Stick</td>\n",
       "      <td>3.8</td>\n",
       "      <td>17</td>\n",
       "      <td>0.64</td>\n",
       "    </tr>\n",
       "  </tbody>\n",
       "</table>\n",
       "</div>"
      ],
      "text/plain": [
       "     Unnamed: 0     Brand           Product   Type  Avg Rating  \\\n",
       "169         169  MyChelle  Cream Foundation  Stick         3.8   \n",
       "\n",
       "     Number of Reviews  Percentage Would Buy Again  \n",
       "169                 17                        0.64  "
      ]
     },
     "execution_count": 47,
     "metadata": {},
     "output_type": "execute_result"
    }
   ],
   "source": [
    "products.loc[products['Product'] == 'Cream Foundation']"
   ]
  },
  {
   "cell_type": "code",
   "execution_count": null,
   "metadata": {},
   "outputs": [],
   "source": []
  }
 ],
 "metadata": {
  "kernelspec": {
   "display_name": "Python 3",
   "language": "python",
   "name": "python3"
  },
  "language_info": {
   "codemirror_mode": {
    "name": "ipython",
    "version": 3
   },
   "file_extension": ".py",
   "mimetype": "text/x-python",
   "name": "python",
   "nbconvert_exporter": "python",
   "pygments_lexer": "ipython3",
   "version": "3.7.0"
  }
 },
 "nbformat": 4,
 "nbformat_minor": 2
}
